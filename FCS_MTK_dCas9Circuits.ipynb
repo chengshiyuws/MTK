{
 "cells": [
  {
   "cell_type": "markdown",
   "metadata": {},
   "source": [
    "## Analysis of promotor and 3'UTR effect on expression\n",
    "\n",
    "### Load libraries and functions"
   ]
  },
  {
   "cell_type": "code",
   "execution_count": null,
   "metadata": {},
   "outputs": [],
   "source": [
    "import fcsparser as fcs\n",
    "import os\n",
    "import pandas as pd\n",
    "import warnings\n",
    "import seaborn as sns\n",
    "import matplotlib as mpl\n",
    "import matplotlib.pyplot as plt\n",
    "import math\n",
    "sns.set(style =\"whitegrid\")\n",
    "sns.set_context(\"poster\")\n",
    "warnings.filterwarnings(\"once\")"
   ]
  },
  {
   "cell_type": "markdown",
   "metadata": {},
   "source": [
    "### Load files and metadata"
   ]
  },
  {
   "cell_type": "code",
   "execution_count": null,
   "metadata": {},
   "outputs": [],
   "source": [
    "#folder with fcs files in subfolders\n",
    "folder=\"C:\\\\FCS_experiment\\\\\"\n",
    "\n",
    "ffolderlist = [f for f in os.listdir(folder) if os.path.isdir(os.path.join(folder, f))]\n",
    "\n",
    "\n",
    "df=pd.DataFrame()\n",
    "aa=1\n",
    "\n",
    "#load all fcs files\n",
    "for fdn in ffolderlist:\n",
    "    ffilelist = os.listdir(folder+fdn)\n",
    "    print (fdn)\n",
    "    plate = fdn.split(\"_\")[2]\n",
    "    run = fdn.split(\"_\")[3]\n",
    "    for fn in ffilelist:\n",
    "        filename, file_ext = os.path.splitext(fn)\n",
    "        if file_ext ==\".fcs\":\n",
    "            path = folder + fdn + \"//\" + fn\n",
    "            meta, df1 = fcs.parse(path, meta_data_only=False, reformat_meta=True)\n",
    "            df1[\"WellName\"]=fn.split(\"_\")[3].split(\".\")[0]\n",
    "            df1[\"WellNumber\"]= aa\n",
    "            df1[\"Plate\"] =plate\n",
    "            df1[\"Run\"] = run\n",
    "            df=df.append(df1)\n",
    "            aa=aa+1\n",
    "\n",
    "# metadata file\n",
    "meta = \"C:\\\\metadata.csv\"\n",
    "df1=pd.read_csv(meta, names=[\"WellName\", \"Name\", \"ExperimentName\", \"Info\", \"Plate\"], dtype= object)\n",
    "\n",
    "dfnew=df1.merge(df, on=[\"WellName\", \"Plate\"])\n"
   ]
  },
  {
   "cell_type": "markdown",
   "metadata": {},
   "source": [
    "### remove zeros, gate live cells and log data"
   ]
  },
  {
   "cell_type": "code",
   "execution_count": null,
   "metadata": {},
   "outputs": [],
   "source": [
    "#remove zeros\n",
    "dfnew= dfnew[dfnew > 0]\n",
    "\n",
    "#remove doublets\n",
    "dfnew[\"doublet\"] = dfnew[\"FSC-A\"] / dfnew[\"FSC-H\"]\n",
    "df2=dfnew[(dfnew.doublet < 2)& (dfnew.doublet > 1.25)]\n",
    "df2=dfnew\n",
    "\n",
    "#remove small events\n",
    "df2 =df2[df2[\"FSC-A\"]>0E5]\n",
    "df2 =df2[(df2[\"SSC-A\"]<2E5)]\n",
    "\n",
    "#show data for first well\n",
    "g = sns.jointplot(\"FSC-A\", \"SSC-A\", data=df2[df2[\"WellNumber\"]==1], s=1)#.plot_joint(sns.kdeplot, zorder=0, n_levels=6);\n",
    "plt.show()\n",
    "\n",
    "#log data\n",
    "for col in df2.columns:\n",
    "    if df2[col].dtype==\"float32\":\n",
    "        df2[\"log\"+ col]=df2[col].apply(math.log10)\n"
   ]
  },
  {
   "cell_type": "markdown",
   "metadata": {},
   "source": [
    "### Choose experiment and gate cells expressing circuit"
   ]
  },
  {
   "cell_type": "code",
   "execution_count": null,
   "metadata": {},
   "outputs": [],
   "source": [
    "df_Term=df2[df2[\"ExperimentName\"]==\"TRE\"]\n",
    "df_Term = df_Term[(df_Term[\"logPE-CF594-A\"]>3) & (df_Term[\"logAPC-Cy7-A\"]>2.5)]\n",
    "df_Term[\"normFITC-A\"] = df_Term[\"FITC-A\"]/df_Term[\"APC-Cy7-A\"]\n",
    "df_Term.dropna(inplace =True)"
   ]
  },
  {
   "cell_type": "code",
   "execution_count": null,
   "metadata": {},
   "outputs": [],
   "source": [
    "### Plot results"
   ]
  },
  {
   "cell_type": "code",
   "execution_count": null,
   "metadata": {},
   "outputs": [],
   "source": [
    "df_Term_ind2 = df_Term.groupby(['Name', 'WellName']).count()\n",
    "df_Term_ind2 = df_Term_ind2.reset_index()\n",
    "excluded_wells=df_Term_ind2.loc[df_Term_ind2[\"FITC-A\"]<0,\"WellName\"]\n",
    "\n",
    "\n",
    "df_Term_ind = df_Term.groupby(['Name', 'WellName']).mean()\n",
    "df_Term_ind = df_Term_ind.reset_index()\n",
    "df_Term_ind = df_Term_ind[~df_Term_ind['WellName'].isin(excluded_wells)]\n",
    "\n",
    "\n",
    "df_Term_ind['normnormFITC-A'] = df_Term_ind['FITC-A']/np.mean(df_Term_ind.loc[df_Term_ind_1['Name']=='SadCas9::mRuby2','FITC-A'])\n",
    "df_Term_ind['lognormnormFITC-A'] = df_Term_ind['normnormFITC-A'].apply(math.log10)\n",
    "df_Term_ind = df_Term_ind.sort_values('normnormFITC-A')\n",
    "df_Term_ind_g = df_Term_ind.groupby(\"Name\")['lognormnormFITC-A'].mean().sort_values()\n",
    "\n",
    "\n",
    "g2 = sns.barplot(x=\"lognormnormFITC-A\", y=\"Name\", data=df_Term_ind, color='mediumaquamarine', ci = None, order = df_Term_ind_g.index)\n",
    "g2 = sns.swarmplot(x=\"lognormnormFITC-A\", y=\"Name\", data=df_Term_ind, color='darkgreen', order = df_Term_ind_g.index, size=4)\n",
    "sns.despine(left=True, bottom= True)\n",
    "plt.xlim(-.5, 2)\n",
    "plt.xticks([-1, -.5, 0, .5, 1, 1.5, 2, 2.5])\n",
    "plt.savefig(folder + 'TRE.eps', type = 'eps')\n",
    "plt.savefig(folder + 'TRE.png', type = 'png', dpi =300)\n",
    "plt.show()"
   ]
  }
 ],
 "metadata": {
  "anaconda-cloud": {},
  "kernelspec": {
   "display_name": "Python 3",
   "language": "python",
   "name": "python3"
  },
  "language_info": {
   "codemirror_mode": {
    "name": "ipython",
    "version": 3
   },
   "file_extension": ".py",
   "mimetype": "text/x-python",
   "name": "python",
   "nbconvert_exporter": "python",
   "pygments_lexer": "ipython3",
   "version": "3.6.5"
  }
 },
 "nbformat": 4,
 "nbformat_minor": 1
}
