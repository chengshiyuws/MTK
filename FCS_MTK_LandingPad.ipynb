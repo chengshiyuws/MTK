{
 "cells": [
  {
   "cell_type": "markdown",
   "metadata": {},
   "source": [
    "## Analysis of Landing pad integration\n",
    "\n",
    "### Load libraries and functions"
   ]
  },
  {
   "cell_type": "code",
   "execution_count": null,
   "metadata": {},
   "outputs": [],
   "source": [
    "import fcsparser as fcs\n",
    "import os\n",
    "import pandas as pd\n",
    "import warnings\n",
    "import seaborn as sns\n",
    "import matplotlib as mpl\n",
    "import matplotlib.pyplot as plt\n",
    "import math\n",
    "sns.set(style =\"whitegrid\")\n",
    "sns.set_context(\"poster\")\n",
    "warnings.filterwarnings(\"once\")"
   ]
  },
  {
   "cell_type": "markdown",
   "metadata": {},
   "source": [
    "### Load files and metadata"
   ]
  },
  {
   "cell_type": "code",
   "execution_count": null,
   "metadata": {},
   "outputs": [],
   "source": [
    "#folder with fcs files in subfolders\n",
    "folder=\"C:\\\\FCS_experiment\\\\\"\n",
    "\n",
    "ffolderlist = [f for f in os.listdir(folder) if os.path.isdir(os.path.join(folder, f))]\n",
    "\n",
    "\n",
    "df=pd.DataFrame()\n",
    "aa=1\n",
    "\n",
    "#load all fcs files\n",
    "for fdn in ffolderlist:\n",
    "    ffilelist = os.listdir(folder+fdn)\n",
    "    print (fdn)\n",
    "    plate = fdn.split(\"_\")[2]\n",
    "    run = fdn.split(\"_\")[3]\n",
    "    for fn in ffilelist:\n",
    "        filename, file_ext = os.path.splitext(fn)\n",
    "        if file_ext ==\".fcs\":\n",
    "            path = folder + fdn + \"//\" + fn\n",
    "            meta, df1 = fcs.parse(path, meta_data_only=False, reformat_meta=True)\n",
    "            df1[\"WellName\"]=fn.split(\"_\")[3].split(\".\")[0]\n",
    "            df1[\"WellNumber\"]= aa\n",
    "            df1[\"Plate\"] =plate\n",
    "            df1[\"Run\"] = run\n",
    "            df=df.append(df1)\n",
    "            aa=aa+1\n",
    "\n",
    "# metadata file\n",
    "meta = \"C:\\\\metadata.csv\"\n",
    "df1=pd.read_csv(meta, names=[\"WellName\", \"Name\", \"ExperimentName\", \"Info\", \"Plate\"], dtype= object)\n",
    "\n",
    "dfnew=df1.merge(df, on=[\"WellName\", \"Plate\"])\n"
   ]
  },
  {
   "cell_type": "markdown",
   "metadata": {},
   "source": [
    "### remove zeros, gate live cells and log data"
   ]
  },
  {
   "cell_type": "code",
   "execution_count": null,
   "metadata": {},
   "outputs": [],
   "source": [
    "#remove zeros\n",
    "dfnew= dfnew[dfnew > 0]\n",
    "\n",
    "#remove doublets\n",
    "dfnew[\"doublet\"] = dfnew[\"FSC-A\"] / dfnew[\"FSC-H\"]\n",
    "df2=dfnew[(dfnew.doublet < 2)& (dfnew.doublet > 1.25)]\n",
    "df2=dfnew\n",
    "\n",
    "#remove small events\n",
    "df2 =df2[df2[\"FSC-A\"]>0E5]\n",
    "df2 =df2[(df2[\"SSC-A\"]<2E5)]\n",
    "\n",
    "#show data for first well\n",
    "g = sns.jointplot(\"FSC-A\", \"SSC-A\", data=df2[df2[\"WellNumber\"]==1], s=1)#.plot_joint(sns.kdeplot, zorder=0, n_levels=6);\n",
    "plt.show()\n",
    "\n",
    "#log data\n",
    "for col in df2.columns:\n",
    "    if df2[col].dtype==\"float32\":\n",
    "        df2[\"log\"+ col]=df2[col].apply(math.log10)\n"
   ]
  },
  {
   "cell_type": "markdown",
   "metadata": {},
   "source": [
    "### plot distributions"
   ]
  },
  {
   "cell_type": "code",
   "execution_count": null,
   "metadata": {},
   "outputs": [],
   "source": [
    "df23=df2[~np.isnan(df2[\"logFITC-A\"])]\n",
    "\n",
    "g = sns.FacetGrid(data=df23, row = \"Info\")\n",
    "g=g.map(sns.distplot, \"logFITC-A\", color='g').set(xlim=(0, 6))\n",
    "plt.savefig(folder + \"LP_GDist.eps\", type = \"eps\")\n",
    "plt.savefig(folder + \"LP_GDist.png\", type = \"png\", dpi =300)\n",
    "\n",
    "g = sns.FacetGrid(data=df23, row = \"Info\")\n",
    "g=g.map(sns.distplot, \"logBV 421-A\", color='b').set(xlim=(1, 4))\n",
    "plt.savefig(folder + \"LP_BDist.eps\", type = \"eps\")\n",
    "plt.savefig(folder + \"LP_BDist.png\", type = \"png\", dpi =300)\n",
    "\n",
    "g = sns.FacetGrid(data=df23, row = \"Info\")\n",
    "g=g.map(sns.distplot, \"logPE-CF594-A\", color='r').set(xlim=(0, 6))\n",
    "\n",
    "plt.savefig(folder + \"LP_RDist.eps\", type = \"eps\")\n",
    "plt.savefig(folder + \"LP_RDist.png\", type = \"png\", dpi =300)\n",
    "plt.show()\n"
   ]
  }
 ],
 "metadata": {
  "anaconda-cloud": {},
  "kernelspec": {
   "display_name": "Python 3",
   "language": "python",
   "name": "python3"
  },
  "language_info": {
   "codemirror_mode": {
    "name": "ipython",
    "version": 3
   },
   "file_extension": ".py",
   "mimetype": "text/x-python",
   "name": "python",
   "nbconvert_exporter": "python",
   "pygments_lexer": "ipython3",
   "version": "3.6.5"
  }
 },
 "nbformat": 4,
 "nbformat_minor": 1
}
