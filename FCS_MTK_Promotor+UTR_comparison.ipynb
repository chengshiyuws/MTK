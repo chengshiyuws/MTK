{
 "cells": [
  {
   "cell_type": "markdown",
   "metadata": {},
   "source": [
    "## Analysis of promotor and 3'UTR effect on expression\n",
    "\n",
    "### Load libraries and functions"
   ]
  },
  {
   "cell_type": "code",
   "execution_count": null,
   "metadata": {},
   "outputs": [],
   "source": [
    "import fcsparser as fcs\n",
    "import os\n",
    "import pandas as pd\n",
    "import warnings\n",
    "import seaborn as sns\n",
    "import matplotlib as mpl\n",
    "import matplotlib.pyplot as plt\n",
    "import math\n",
    "sns.set(style =\"whitegrid\")\n",
    "sns.set_context(\"poster\")\n",
    "warnings.filterwarnings(\"once\")\n",
    "\n",
    "#functions for distribution plot\n",
    "def multiple_dist_plot (dfx, FP, start):\n",
    "    \n",
    "    sns.set(style=\"white\", font_scale=1, font=\"Arial\", rc={\"axes.facecolor\": (0, 0, 0, 0)})\n",
    "    sns.set_context(\"notebook\")\n",
    "    order = list(dfx.groupby(by=[\"Info\"])[FP].aggregate(np.median).sort_values().iloc[::].index)\n",
    "    if isinstance(start, str)==True:\n",
    "        pal = sns.color_palette( start, len(order))\n",
    "    else:\n",
    "        pal = sns.cubehelix_palette(len(order), start=start)\n",
    "    #pal.reverse()    \n",
    "    #pal_order=[]\n",
    "    #original_order=list(dfx.Info.unique())\n",
    "    #for i in np.arange(len(order)):\n",
    "    #    pal_order.append(order.index(original_order[i]))\n",
    "    #pal=np.array(pal)\n",
    "    #pal=pal[pal_order]\n",
    "    \n",
    "    g = sns.FacetGrid(dfx, row=\"Info\", hue=\"Info\", aspect=10, size=.5, palette=pal)#, row_order=order)\n",
    "\n",
    "    # Draw the densities in a few steps\n",
    "    #g.map(sns.distplot, FP)\n",
    "    g.map(sns.kdeplot, FP, clip_on=False, shade=True, alpha=1, lw=1.5, bw=.2, color='gray')\n",
    "    g.map(sns.kdeplot, FP, clip_on=False, color=\"w\", lw=2, bw=.2)\n",
    "    g.map(plt.axhline, y=0, lw=2, clip_on=False, color ='gray')\n",
    "\n",
    "    # Define and use a simple function to label the plot in axes coordinates\n",
    "    def label(x, color, label):\n",
    "        ax = plt.gca()\n",
    "        #ax.text(0, .2, [label,np.round(np.median(x), decimals=2)], fontweight=\"bold\", color=color, \n",
    "                #ha=\"left\", va=\"center\", transform=ax.transAxes)\n",
    "        ax.text(0, .2, label, fontweight=\"bold\", color='gray', \n",
    "                ha=\"left\", va=\"center\", transform=ax.transAxes)\n",
    "\n",
    "    g.map(label, FP)\n",
    "\n",
    "    # Set the subplots to overlap\n",
    "    g.fig.subplots_adjust(hspace=-0.25)\n",
    "\n",
    "    # Remove axes details that don't play will with overlap\n",
    "    g.set_titles(\"\")\n",
    "    g.set(yticks=[])\n",
    "    g.despine(bottom=True, left=True)"
   ]
  },
  {
   "cell_type": "markdown",
   "metadata": {},
   "source": [
    "### Load files and metadata"
   ]
  },
  {
   "cell_type": "code",
   "execution_count": 2,
   "metadata": {
    "scrolled": true
   },
   "outputs": [
    {
     "name": "stdout",
     "output_type": "stream",
     "text": [
      "3T3_PromTerm_Plate1_Run3\n"
     ]
    }
   ],
   "source": [
    "#folder with fcs files in subfolders\n",
    "folder=\"C:\\\\FCS_experiment\\\\\"\n",
    "\n",
    "ffolderlist = [f for f in os.listdir(folder) if os.path.isdir(os.path.join(folder, f))]\n",
    "\n",
    "\n",
    "df=pd.DataFrame()\n",
    "aa=1\n",
    "\n",
    "#load all fcs files\n",
    "for fdn in ffolderlist:\n",
    "    ffilelist = os.listdir(folder+fdn)\n",
    "    print (fdn)\n",
    "    plate = fdn.split(\"_\")[2]\n",
    "    run = fdn.split(\"_\")[3]\n",
    "    for fn in ffilelist:\n",
    "        filename, file_ext = os.path.splitext(fn)\n",
    "        if file_ext ==\".fcs\":\n",
    "            path = folder + fdn + \"//\" + fn\n",
    "            meta, df1 = fcs.parse(path, meta_data_only=False, reformat_meta=True)\n",
    "            df1[\"WellName\"]=fn.split(\"_\")[3].split(\".\")[0]\n",
    "            df1[\"WellNumber\"]= aa\n",
    "            df1[\"Plate\"] =plate\n",
    "            df1[\"Run\"] = run\n",
    "            df=df.append(df1)\n",
    "            aa=aa+1\n",
    "\n",
    "# metadata file\n",
    "meta = \"C:\\\\metadata.csv\"\n",
    "df1=pd.read_csv(meta, names=[\"WellName\", \"Name\", \"ExperimentName\", \"Info\", \"Plate\"], dtype= object)\n",
    "\n",
    "dfnew=df1.merge(df, on=[\"WellName\", \"Plate\"])\n"
   ]
  },
  {
   "cell_type": "markdown",
   "metadata": {},
   "source": [
    "### remove zeros, gate live cells and log data"
   ]
  },
  {
   "cell_type": "code",
   "execution_count": null,
   "metadata": {},
   "outputs": [],
   "source": [
    "#remove zeros\n",
    "dfnew= dfnew[dfnew > 0]\n",
    "\n",
    "#remove doublets\n",
    "dfnew[\"doublet\"] = dfnew[\"FSC-A\"] / dfnew[\"FSC-H\"]\n",
    "df2=dfnew[(dfnew.doublet < 2)& (dfnew.doublet > 1.25)]\n",
    "df2=dfnew\n",
    "\n",
    "#remove small events\n",
    "df2 =df2[df2[\"FSC-A\"]>0E5]\n",
    "df2 =df2[(df2[\"SSC-A\"]<2E5)]\n",
    "\n",
    "#show data for first well\n",
    "g = sns.jointplot(\"FSC-A\", \"SSC-A\", data=df2[df2[\"WellNumber\"]==1], s=1)#.plot_joint(sns.kdeplot, zorder=0, n_levels=6);\n",
    "plt.show()\n",
    "\n",
    "#log data\n",
    "for col in df2.columns:\n",
    "    if df2[col].dtype==\"float32\":\n",
    "        df2[\"log\"+ col]=df2[col].apply(math.log10)\n"
   ]
  },
  {
   "cell_type": "markdown",
   "metadata": {},
   "source": [
    "### select experiment and gate cells that express circuit"
   ]
  },
  {
   "cell_type": "code",
   "execution_count": 67,
   "metadata": {},
   "outputs": [],
   "source": [
    "df_Term=df2[df2[\"ExperimentName\"]==\"Promotors\"]\n",
    "df_Term = df_Term[df_Term[\"logPE-CF594-A\"]>3.5]\n",
    "df_Term[\"normFITC-A\"] = df_Term[\"FITC-A\"]/df_Term[\"PE-CF594-A\"]"
   ]
  },
  {
   "cell_type": "markdown",
   "metadata": {},
   "source": [
    "### plot distributions"
   ]
  },
  {
   "cell_type": "code",
   "execution_count": null,
   "metadata": {},
   "outputs": [],
   "source": [
    "   \n",
    "FP = \"logFITC-A\"\n",
    "start = \"Greens_d\"\n",
    "multiple_dist_plot (dfTerm, FP, start)\n",
    "#plt.savefig('D:\\\\Box Sync\\\\GoogleDrive\\\\UCSF\\\\Data\\\\2018\\\\FACS\\\\Terminators_A\\\\preGFPdist.png', format='png', dpi=300)\n",
    "plt.show()\n",
    "\n",
    "\n",
    "FP = \"logPE-CF594-A\"\n",
    "start = \"Reds_d\"\n",
    "multiple_dist_plot (dfTerm, FP, start)\n",
    "#plt.savefig('D:\\\\Box Sync\\\\GoogleDrive\\\\UCSF\\\\Data\\\\2018\\\\FACS\\\\Terminators_A\\\\RFPdist.png', format='png', dpi=300)\n",
    "plt.show()\n",
    "        \n",
    "FP = \"logAPC-Cy7-A\"\n",
    "start = \"Blues_d\"\n",
    "multiple_dist_plot (dfTerm, FP, start)\n",
    "#plt.savefig('D:\\\\Box Sync\\\\GoogleDrive\\\\UCSF\\\\Data\\\\2018\\\\FACS\\\\Terminators_A\\\\RFPdist.png', format='png', dpi=300)\n",
    "plt.show()\n"
   ]
  },
  {
   "cell_type": "markdown",
   "metadata": {},
   "source": [
    "### remove wells with few cells"
   ]
  },
  {
   "cell_type": "code",
   "execution_count": null,
   "metadata": {},
   "outputs": [],
   "source": [
    "df_Term_ind2 = df_Term.groupby(['Info', 'WellName']).count()\n",
    "df_Term_ind2 = df_Term_ind2.reset_index()\n",
    "excluded_wells=df_Term_ind2.loc[df_Term_ind2[\"FITC-A\"]<50,\"WellName\"]\n",
    "\n",
    "\n",
    "df_Term_ind = df_Term.groupby(['Info', 'WellName']).mean()\n",
    "df_Term_ind = df_Term_ind.reset_index()\n",
    "df_Term_ind = df_Term_ind[~df_Term_ind['WellName'].isin(excluded_wells)]"
   ]
  },
  {
   "cell_type": "markdown",
   "metadata": {},
   "source": [
    "### normalize FITC signal and plot mean"
   ]
  },
  {
   "cell_type": "code",
   "execution_count": null,
   "metadata": {},
   "outputs": [],
   "source": [
    "df_Term_ind['normnormFITC-A'] = df_Term_ind['normFITC-A']/np.mean(df_Term_ind.loc[df_Term_ind_1['Info']=='Spacer','normFITC-A'])\n",
    "df_Term_ind['lognormnormFITC-A'] = df_Term_ind['normnormFITC-A'].apply(math.log10)\n",
    "df_Term_ind = df_Term_ind_1.sort_values('normnormFITC-A')\n",
    "df_Term_ind_g = df_Term_ind.groupby(\"Info\")['lognormnormFITC-A'].mean().sort_values()\n",
    "\n",
    "FP = \"normnormFITC-A\"\n",
    "start = \"gray\"\n",
    "multiple_dist_plot (df_Term_ind_1, FP, start)\n",
    "plt.savefig(folder + 'dist.eps', type = 'eps')\n",
    "plt.savefig(folder + 'dist.png', format='png', dpi=300)\n",
    "plt.show()\n",
    "\n",
    "fig=plt.figure(figsize=[10,10])\n",
    "g2 = sns.barplot(x=\"normnormFITC-A\", y=\"Info\", data=df_Term_ind, color='gray', ci = None, order = df_Term_ind_g.index)\n",
    "g2 = sns.stripplot(x=\"normnormFITC-A\", y=\"Info\", data=df_Term_ind, color='Black', order = df_Term_ind_g.index)\n",
    "sns.despine(left=True, bottom= True)\n",
    "plt.savefig(folder + 'bar.eps', type = 'eps')\n",
    "plt.savefig(folder + 'bar.png', format='png', dpi=300)\n",
    "plt.show()\n",
    "\n",
    "df_Term_ind_1.to_csv(folder + 'data.csv')\n"
   ]
  }
 ],
 "metadata": {
  "anaconda-cloud": {},
  "kernelspec": {
   "display_name": "Python 3",
   "language": "python",
   "name": "python3"
  },
  "language_info": {
   "codemirror_mode": {
    "name": "ipython",
    "version": 3
   },
   "file_extension": ".py",
   "mimetype": "text/x-python",
   "name": "python",
   "nbconvert_exporter": "python",
   "pygments_lexer": "ipython3",
   "version": "3.6.5"
  }
 },
 "nbformat": 4,
 "nbformat_minor": 1
}
